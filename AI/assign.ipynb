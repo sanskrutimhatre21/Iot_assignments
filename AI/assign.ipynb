{
 "cells": [
  {
   "cell_type": "code",
   "execution_count": 4,
   "id": "1ae19191-ea7c-443e-9292-801083dcb8ef",
   "metadata": {},
   "outputs": [],
   "source": [
    "import numpy as np"
   ]
  },
  {
   "cell_type": "code",
   "execution_count": 5,
   "id": "5ce2d6cc-8776-429d-932e-9e29d7bd9c52",
   "metadata": {},
   "outputs": [],
   "source": [
    "#size of array"
   ]
  },
  {
   "cell_type": "code",
   "execution_count": 6,
   "id": "82344b3a-fb12-4094-9dcf-99dfd562b5f6",
   "metadata": {},
   "outputs": [
    {
     "name": "stdout",
     "output_type": "stream",
     "text": [
      "32\n"
     ]
    }
   ],
   "source": [
    "n1 = np.array([1, 7, 13, 105])\n",
    "print(n1.nbytes)"
   ]
  },
  {
   "cell_type": "code",
   "execution_count": 7,
   "id": "1d79577d-9d02-4807-877a-199b60a0c596",
   "metadata": {},
   "outputs": [],
   "source": [
    "#elementwise comparison"
   ]
  },
  {
   "cell_type": "code",
   "execution_count": 8,
   "id": "1d650d35-5d91-4bd2-8fb1-bda0783616f8",
   "metadata": {},
   "outputs": [],
   "source": [
    "a1 = np.array([3, 5])"
   ]
  },
  {
   "cell_type": "code",
   "execution_count": 9,
   "id": "a1da9231-11b2-41d5-bbbb-36daccf94821",
   "metadata": {},
   "outputs": [],
   "source": [
    "a2 = np.array([2,5])"
   ]
  },
  {
   "cell_type": "code",
   "execution_count": 10,
   "id": "e12bfc21-a733-472d-a4b0-1d2c8bc56f06",
   "metadata": {},
   "outputs": [
    {
     "name": "stdout",
     "output_type": "stream",
     "text": [
      "Comparison - greater\n"
     ]
    }
   ],
   "source": [
    "print(\"Comparison - greater\")"
   ]
  },
  {
   "cell_type": "code",
   "execution_count": 11,
   "id": "210d46d5-683a-452c-a236-b56bebd5b4f1",
   "metadata": {},
   "outputs": [
    {
     "name": "stdout",
     "output_type": "stream",
     "text": [
      "[ True False]\n",
      "Comparison - greater_equal\n",
      "[ True  True]\n",
      "Comparison - less\n",
      "[False False]\n",
      "Comparison - less_equal\n",
      "[False  True]\n"
     ]
    }
   ],
   "source": [
    "print(np.greater(a1, a2))\n",
    "print(\"Comparison - greater_equal\")\n",
    "print(np.greater_equal(a1, a2))\n",
    "print(\"Comparison - less\")\n",
    "print(np.less(a1, a2))\n",
    "print(\"Comparison - less_equal\")\n",
    "print(np.less_equal(a1, a2))"
   ]
  },
  {
   "cell_type": "code",
   "execution_count": 12,
   "id": "f5610265-cae9-42d3-9337-0c0890289445",
   "metadata": {},
   "outputs": [],
   "source": [
    "#10 zeroes, 10 ones, 10fives, 10 tens, 10twentys, 10 fiftys"
   ]
  },
  {
   "cell_type": "code",
   "execution_count": 13,
   "id": "18acfc3d-7dad-4eec-8b23-0c05c5a461be",
   "metadata": {},
   "outputs": [
    {
     "name": "stdout",
     "output_type": "stream",
     "text": [
      "[0. 0. 0. 0. 0. 0. 0. 0. 0. 0.]\n"
     ]
    }
   ],
   "source": [
    "arr1 = np.zeros(10)\n",
    "print(arr1)"
   ]
  },
  {
   "cell_type": "code",
   "execution_count": 14,
   "id": "ec0e9215-6dff-474c-8cfd-b051b253049a",
   "metadata": {},
   "outputs": [
    {
     "name": "stdout",
     "output_type": "stream",
     "text": [
      "[1. 1. 1. 1. 1. 1. 1. 1. 1. 1.]\n"
     ]
    }
   ],
   "source": [
    "arr2 = np.ones(10)\n",
    "print(arr2)"
   ]
  },
  {
   "cell_type": "code",
   "execution_count": 15,
   "id": "f3907f6e-3702-4f0a-adb7-c29a18d00717",
   "metadata": {},
   "outputs": [
    {
     "name": "stdout",
     "output_type": "stream",
     "text": [
      "[5. 5. 5. 5. 5. 5. 5. 5. 5. 5.]\n"
     ]
    }
   ],
   "source": [
    "arr3 = np.ones(10)*5\n",
    "print(arr3)"
   ]
  },
  {
   "cell_type": "code",
   "execution_count": 16,
   "id": "a0a951a5-5fca-42b4-bfe3-bc5c413b2c74",
   "metadata": {},
   "outputs": [
    {
     "name": "stdout",
     "output_type": "stream",
     "text": [
      "[10. 10. 10. 10. 10. 10. 10. 10. 10. 10.]\n"
     ]
    }
   ],
   "source": [
    "arr4 = np.ones(10)*10\n",
    "print(arr4)"
   ]
  },
  {
   "cell_type": "code",
   "execution_count": 17,
   "id": "fbebdd35-e2a3-4e78-932a-63b088551162",
   "metadata": {},
   "outputs": [
    {
     "name": "stdout",
     "output_type": "stream",
     "text": [
      "[20. 20. 20. 20. 20. 20. 20. 20. 20. 20.]\n"
     ]
    }
   ],
   "source": [
    "arr5 = np.ones(10)*20\n",
    "print(arr5)"
   ]
  },
  {
   "cell_type": "code",
   "execution_count": 18,
   "id": "a7932861-92d9-4abd-a51b-9c58456f3105",
   "metadata": {},
   "outputs": [
    {
     "name": "stdout",
     "output_type": "stream",
     "text": [
      "[50. 50. 50. 50. 50. 50. 50. 50. 50. 50.]\n"
     ]
    }
   ],
   "source": [
    "arr6 = np.ones(10)*50\n",
    "print(arr6)"
   ]
  },
  {
   "cell_type": "code",
   "execution_count": 19,
   "id": "acbd31fa-d375-4640-b154-dd71822c3fb8",
   "metadata": {},
   "outputs": [
    {
     "name": "stdout",
     "output_type": "stream",
     "text": [
      "[30 31 32 33 34 35 36 37 38 39 40 41 42 43 44 45 46 47 48 49 50 51 52 53\n",
      " 54 55 56 57 58 59 60 61 62 63 64 65 66 67 68 69]\n"
     ]
    }
   ],
   "source": [
    "arr7 = np.arange(30,70)\n",
    "print(arr7)"
   ]
  },
  {
   "cell_type": "code",
   "execution_count": 23,
   "id": "002ba3f6-f474-4433-8688-9c4f67f195b1",
   "metadata": {},
   "outputs": [
    {
     "name": "stdout",
     "output_type": "stream",
     "text": [
      "[50 51 52 53 54 55 56 57 58 59 60 61 62 63 64 65 66 67 68 69 70 71 72 73\n",
      " 74 75 76 77 78 79 80 81 82 83 84 85 86 87 88 89 90 91 92 93 94]\n"
     ]
    }
   ],
   "source": [
    "arr8 = np.arange(50,95)\n",
    "print(arr8)"
   ]
  },
  {
   "cell_type": "code",
   "execution_count": 24,
   "id": "e771a3d1-f197-4c42-8ada-768d012a872b",
   "metadata": {},
   "outputs": [
    {
     "name": "stdout",
     "output_type": "stream",
     "text": [
      "[20 22 24 26 28 30 32 34 36 38 40 42 44 46 48 50 52 54 56 58 60 62 64 66\n",
      " 68 70 72 74 76 78]\n"
     ]
    }
   ],
   "source": [
    "arr9 = np.arange(20,80,2)\n",
    "print(arr9)"
   ]
  },
  {
   "cell_type": "code",
   "execution_count": 27,
   "id": "346ddbcc-718e-44af-a119-7612479178d6",
   "metadata": {},
   "outputs": [
    {
     "name": "stdout",
     "output_type": "stream",
     "text": [
      "[20 23 26 29 32 35 38 41 44 47 50 53 56 59 62 65 68 71 74 77]\n"
     ]
    }
   ],
   "source": [
    "arr10 = np.arange(20,80,3)\n",
    "print(arr10)"
   ]
  },
  {
   "cell_type": "code",
   "execution_count": 62,
   "id": "3ee73072-f6cb-4766-a718-92ce9c63a228",
   "metadata": {},
   "outputs": [
    {
     "name": "stdout",
     "output_type": "stream",
     "text": [
      "[10 16 27 28 17 35 31 35 26 33 25 20 37 24 32]\n"
     ]
    }
   ],
   "source": [
    "n1 = np.random.randint(10,40,15)\n",
    "print(n1)"
   ]
  },
  {
   "cell_type": "code",
   "execution_count": 63,
   "id": "968041a2-e3e8-4d8a-bf63-7b7df02b628d",
   "metadata": {},
   "outputs": [
    {
     "name": "stdout",
     "output_type": "stream",
     "text": [
      "[49 41 49 42 46 45 49 42 35 31]\n"
     ]
    }
   ],
   "source": [
    "n2 = np.random.randint(30,50,10)\n",
    "print(n2)"
   ]
  },
  {
   "cell_type": "code",
   "execution_count": 64,
   "id": "130e43eb-b3f4-42ce-a69f-344e6ca4ffe4",
   "metadata": {},
   "outputs": [
    {
     "name": "stdout",
     "output_type": "stream",
     "text": [
      "[51 80 83 53 52 84 67 54 63 58 57 80 82 61 79 64 88 72 88 87]\n"
     ]
    }
   ],
   "source": [
    "n3 = np.random.randint(50,90,20)\n",
    "print(n3)"
   ]
  },
  {
   "cell_type": "code",
   "execution_count": 65,
   "id": "d0102de4-6a31-4ebf-8fb1-102b93013872",
   "metadata": {},
   "outputs": [],
   "source": [
    "#create any two arrays"
   ]
  },
  {
   "cell_type": "code",
   "execution_count": 70,
   "id": "40d37667-2d9b-4005-8059-23a35cfe56a1",
   "metadata": {},
   "outputs": [
    {
     "name": "stdout",
     "output_type": "stream",
     "text": [
      "[12 24 36 48]\n",
      "[10 20 30 40]\n",
      "[ 11  44  99 176]\n",
      "[11. 11. 11. 11.]\n"
     ]
    }
   ],
   "source": [
    "n4 = np.array([11,22,33,44])\n",
    "n5 = np.array([1,2,3,4])\n",
    "print((n4+n5))\n",
    "print((n4 - n5))\n",
    "print((n4 * n5))\n",
    "print((n4 / n5))"
   ]
  },
  {
   "cell_type": "code",
   "execution_count": 71,
   "id": "5ba5a945-854e-4786-842c-69282c6a8d9f",
   "metadata": {},
   "outputs": [],
   "source": [
    "#3x4 matrix filled with values from 10 to 21"
   ]
  },
  {
   "cell_type": "code",
   "execution_count": 75,
   "id": "160d4c79-59f3-4de2-8a75-93f4f3077b49",
   "metadata": {},
   "outputs": [
    {
     "name": "stdout",
     "output_type": "stream",
     "text": [
      "[[10 11 12 13]\n",
      " [14 15 16 17]\n",
      " [18 19 20 21]]\n"
     ]
    }
   ],
   "source": [
    "n6 = np.arange(10, 22).reshape([3, 4])\n",
    "print (n6)"
   ]
  },
  {
   "cell_type": "code",
   "execution_count": 76,
   "id": "381a8816-8058-4bc5-9ed0-b01640c818f1",
   "metadata": {},
   "outputs": [
    {
     "name": "stdout",
     "output_type": "stream",
     "text": [
      "[[1. 0. 0.]\n",
      " [0. 1. 0.]\n",
      " [0. 0. 1.]]\n"
     ]
    }
   ],
   "source": [
    "n7 = np.eye(3)\n",
    "print (n7)"
   ]
  },
  {
   "cell_type": "code",
   "execution_count": 77,
   "id": "5e33ff68-30c2-4c17-817f-27394851f28b",
   "metadata": {},
   "outputs": [
    {
     "name": "stdout",
     "output_type": "stream",
     "text": [
      "Rows: 2\n",
      "Columns: 3\n"
     ]
    }
   ],
   "source": [
    "matrix = np.array([[9, 9, 9], [8, 8, 8]])\n",
    " \n",
    "dimensions = matrix.shape\n",
    "rows, columns = dimensions\n",
    " \n",
    "print(\"Rows:\", rows)\n",
    "print(\"Columns:\", columns)"
   ]
  },
  {
   "cell_type": "code",
   "execution_count": 78,
   "id": "15ba893b-53cf-4870-8e5d-ed3d806876dc",
   "metadata": {},
   "outputs": [
    {
     "name": "stdout",
     "output_type": "stream",
     "text": [
      "[[1 0 0 0 0]\n",
      " [0 2 0 0 0]\n",
      " [0 0 3 0 0]\n",
      " [0 0 0 4 0]\n",
      " [0 0 0 0 5]]\n"
     ]
    }
   ],
   "source": [
    "x = np.diag([1, 2, 3, 4, 5])\n",
    "print(x)"
   ]
  },
  {
   "cell_type": "code",
   "execution_count": 79,
   "id": "71959985-b2db-464b-b44d-4c52ede92fcd",
   "metadata": {},
   "outputs": [
    {
     "name": "stdout",
     "output_type": "stream",
     "text": [
      "[[[0.68386489 0.16018841 0.21375544]\n",
      "  [0.61914822 0.53961335 0.80563586]\n",
      "  [0.11964872 0.62553781 0.27566688]]\n",
      "\n",
      " [[0.30222558 0.14619981 0.25670536]\n",
      "  [0.21520802 0.08885448 0.96403278]\n",
      "  [0.82062326 0.77093723 0.15814685]]\n",
      "\n",
      " [[0.84775402 0.2353931  0.50679611]\n",
      "  [0.86453782 0.05797257 0.25059182]\n",
      "  [0.32934149 0.11253072 0.54620085]]]\n"
     ]
    }
   ],
   "source": [
    "x = np.random.random((3,3,3))\n",
    "print(x)"
   ]
  },
  {
   "cell_type": "code",
   "execution_count": 81,
   "id": "7c738333-0cb5-4764-a27b-9435ea6e17d4",
   "metadata": {},
   "outputs": [
    {
     "name": "stdout",
     "output_type": "stream",
     "text": [
      "[[[[0.92899133 0.36629818 0.59043806 0.24279978 0.7206412 ]\n",
      "   [0.61625074 0.52272262 0.18989967 0.18449419 0.44837202]\n",
      "   [0.06572079 0.26101344 0.99603678 0.98923229 0.25574668]\n",
      "   [0.12106012 0.73969136 0.67349442 0.98772008 0.3971649 ]]\n",
      "\n",
      "  [[0.23798907 0.15088395 0.44300097 0.3568401  0.14880908]\n",
      "   [0.45260672 0.41239074 0.62631034 0.23250126 0.44934668]\n",
      "   [0.62263617 0.603978   0.69053193 0.21471983 0.02972251]\n",
      "   [0.71060432 0.68585493 0.1286568  0.43784713 0.40064802]]\n",
      "\n",
      "  [[0.95191401 0.16397541 0.38954531 0.92279007 0.67725444]\n",
      "   [0.27044802 0.31921815 0.67120636 0.63085725 0.15984272]\n",
      "   [0.4892166  0.76981626 0.98919709 0.19497272 0.26112064]\n",
      "   [0.42353447 0.77672065 0.43837882 0.77582858 0.2624157 ]]]\n",
      "\n",
      "\n",
      " [[[0.60978449 0.87725112 0.18452709 0.87258763 0.49447974]\n",
      "   [0.42265736 0.27859286 0.56241483 0.35588023 0.3276664 ]\n",
      "   [0.50093815 0.0053467  0.50221936 0.72463252 0.66668888]\n",
      "   [0.88470059 0.81302388 0.97534631 0.77060349 0.98650972]]\n",
      "\n",
      "  [[0.10021952 0.25612882 0.61659924 0.33358315 0.90066049]\n",
      "   [0.5416636  0.96746672 0.70521773 0.62083218 0.44566682]\n",
      "   [0.22528035 0.54051596 0.82358842 0.2591381  0.63920132]\n",
      "   [0.28924715 0.70250459 0.89713299 0.90673466 0.12076242]]\n",
      "\n",
      "  [[0.45167258 0.19929879 0.49787715 0.3851363  0.84140256]\n",
      "   [0.88267518 0.14215214 0.31360469 0.80142015 0.57215454]\n",
      "   [0.63057964 0.66855162 0.42877314 0.05807056 0.45626844]\n",
      "   [0.46395005 0.64948346 0.18197586 0.41158495 0.719958  ]]]]\n"
     ]
    }
   ],
   "source": [
    "x = np.random.random((2,3,4,5))\n",
    "print(x)"
   ]
  },
  {
   "cell_type": "code",
   "execution_count": 83,
   "id": "9ead00ef-a53c-433a-bc96-cde91197d306",
   "metadata": {},
   "outputs": [
    {
     "name": "stdout",
     "output_type": "stream",
     "text": [
      "Original List: [12.23, 13.32, 100, 36.32]\n",
      "One-dimensional NumPy array:  [ 12.23  13.32 100.    36.32]\n"
     ]
    }
   ],
   "source": [
    "l = [12.23, 13.32, 100, 36.32]\n",
    "print(\"Original List:\", l)\n",
    "a = np.array(l)\n",
    "print(\"One-dimensional NumPy array: \", a)\n",
    "\n",
    "\n"
   ]
  },
  {
   "cell_type": "code",
   "execution_count": 84,
   "id": "e4620157-897e-4d6e-8470-72f0034da363",
   "metadata": {},
   "outputs": [
    {
     "name": "stdout",
     "output_type": "stream",
     "text": [
      "[[ 2  3  4]\n",
      " [ 5  6  7]\n",
      " [ 8  9 10]]\n"
     ]
    }
   ],
   "source": [
    "x = np.arange(2, 11).reshape(3, 3)\n",
    "print(x)"
   ]
  },
  {
   "cell_type": "code",
   "execution_count": 85,
   "id": "b5a59544-07a3-4281-b893-3131dbad62ca",
   "metadata": {},
   "outputs": [
    {
     "name": "stdout",
     "output_type": "stream",
     "text": [
      "[12 13 14 15 16 17 18 19 20 21 22 23 24 25 26 27 28 29 30 31 32 33 34 35\n",
      " 36 37]\n"
     ]
    }
   ],
   "source": [
    "x = np.arange(12,38)\n",
    "print(x)"
   ]
  },
  {
   "cell_type": "code",
   "execution_count": 86,
   "id": "706337ab-8872-44b7-b64d-8c577f37f4d6",
   "metadata": {},
   "outputs": [
    {
     "name": "stdout",
     "output_type": "stream",
     "text": [
      "Reverse array:\n",
      "[37 36 35 34 33 32 31 30 29 28 27 26 25 24 23 22 21 20 19 18 17 16 15 14\n",
      " 13 12]\n"
     ]
    }
   ],
   "source": [
    "print(\"Reverse array:\")\n",
    "x = x[::-1]\n",
    "print(x) "
   ]
  },
  {
   "cell_type": "code",
   "execution_count": 87,
   "id": "490815f3-500a-4003-a794-fc46fc0eb959",
   "metadata": {},
   "outputs": [
    {
     "name": "stdout",
     "output_type": "stream",
     "text": [
      "Original array\n",
      "[1, 2, 3, 4]\n",
      "Array converted to a float type:\n",
      "[1. 2. 3. 4.]\n"
     ]
    }
   ],
   "source": [
    "a = [1, 2, 3, 4]\n",
    "print(\"Original array\")\n",
    "print(a)\n",
    "x = np.asfarray(a)\n",
    "print(\"Array converted to a float type:\")\n",
    "print(x) "
   ]
  },
  {
   "cell_type": "code",
   "execution_count": 88,
   "id": "c03adeb5-d6f5-4a25-8b01-d7403d9e7802",
   "metadata": {},
   "outputs": [
    {
     "name": "stdout",
     "output_type": "stream",
     "text": [
      "Original array:\n",
      "[0 1 2 3 4 5 6]\n",
      "Element-wise remainder of division:\n",
      "[0 1 2 3 4 0 1]\n"
     ]
    }
   ],
   "source": [
    "x = np.arange(7)\n",
    "print(\"Original array:\")\n",
    "print(x)\n",
    "print(\"Element-wise remainder of division:\")\n",
    "print(np.remainder(x, 5)) "
   ]
  },
  {
   "cell_type": "code",
   "execution_count": null,
   "id": "19f13b78-9bb5-45a1-ae4a-b705e25f110e",
   "metadata": {},
   "outputs": [],
   "source": []
  }
 ],
 "metadata": {
  "kernelspec": {
   "display_name": "Python 3 (ipykernel)",
   "language": "python",
   "name": "python3"
  },
  "language_info": {
   "codemirror_mode": {
    "name": "ipython",
    "version": 3
   },
   "file_extension": ".py",
   "mimetype": "text/x-python",
   "name": "python",
   "nbconvert_exporter": "python",
   "pygments_lexer": "ipython3",
   "version": "3.10.12"
  }
 },
 "nbformat": 4,
 "nbformat_minor": 5
}
